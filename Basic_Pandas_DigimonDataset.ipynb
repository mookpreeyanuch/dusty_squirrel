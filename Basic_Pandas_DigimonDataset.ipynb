{
  "nbformat": 4,
  "nbformat_minor": 0,
  "metadata": {
    "colab": {
      "name": "Copy of Basic-Pandas-DigimonDataset.ipynb",
      "provenance": [],
      "collapsed_sections": [],
      "toc_visible": true,
      "include_colab_link": true
    },
    "kernelspec": {
      "name": "python3",
      "display_name": "Python 3"
    }
  },
  "cells": [
    {
      "cell_type": "markdown",
      "metadata": {
        "id": "view-in-github",
        "colab_type": "text"
      },
      "source": [
        "<a href=\"https://colab.research.google.com/github/mookpreeyanuch/dusty_squirrel/blob/master/Basic_Pandas_DigimonDataset.ipynb\" target=\"_parent\"><img src=\"https://colab.research.google.com/assets/colab-badge.svg\" alt=\"Open In Colab\"/></a>"
      ]
    },
    {
      "cell_type": "code",
      "metadata": {
        "id": "y1l5vHSqp-eK",
        "colab_type": "code",
        "colab": {}
      },
      "source": [
        "import numpy as np\n",
        "import pandas as pd\n",
        "import matplotlib.pyplot as plt"
      ],
      "execution_count": 0,
      "outputs": []
    },
    {
      "cell_type": "markdown",
      "metadata": {
        "id": "FiKqvXmjq5oD",
        "colab_type": "text"
      },
      "source": [
        "#### Load data"
      ]
    },
    {
      "cell_type": "code",
      "metadata": {
        "id": "0-r1w3DNouxK",
        "colab_type": "code",
        "colab": {}
      },
      "source": [
        "#https://drive.google.com/open?id=1tltwco2WkDMXnyhmUOz5FDG0P7X42VbF\n",
        "file_id='1tltwco2WkDMXnyhmUOz5FDG0P7X42VbF'\n",
        "link='https://drive.google.com/uc?export=download&id={FILE_ID}'\n",
        "csv_url=link.format(FILE_ID=file_id)\n",
        "df = pd.read_csv(csv_url)"
      ],
      "execution_count": 0,
      "outputs": []
    },
    {
      "cell_type": "code",
      "metadata": {
        "id": "cTxUY_W0pkdN",
        "colab_type": "code",
        "outputId": "ba6f0ccb-df43-458f-f02b-0b9fee14a816",
        "colab": {
          "base_uri": "https://localhost:8080/",
          "height": 194
        }
      },
      "source": [
        "df.head()"
      ],
      "execution_count": 4,
      "outputs": [
        {
          "output_type": "execute_result",
          "data": {
            "text/html": [
              "<div>\n",
              "<style scoped>\n",
              "    .dataframe tbody tr th:only-of-type {\n",
              "        vertical-align: middle;\n",
              "    }\n",
              "\n",
              "    .dataframe tbody tr th {\n",
              "        vertical-align: top;\n",
              "    }\n",
              "\n",
              "    .dataframe thead th {\n",
              "        text-align: right;\n",
              "    }\n",
              "</style>\n",
              "<table border=\"1\" class=\"dataframe\">\n",
              "  <thead>\n",
              "    <tr style=\"text-align: right;\">\n",
              "      <th></th>\n",
              "      <th>Number</th>\n",
              "      <th>Digimon</th>\n",
              "      <th>Stage</th>\n",
              "      <th>Type</th>\n",
              "      <th>Attribute</th>\n",
              "      <th>Memory</th>\n",
              "      <th>Equip Slots</th>\n",
              "      <th>Lv 50 HP</th>\n",
              "      <th>Lv50 SP</th>\n",
              "      <th>Lv50 Atk</th>\n",
              "      <th>Lv50 Def</th>\n",
              "      <th>Lv50 Int</th>\n",
              "      <th>Lv50 Spd</th>\n",
              "    </tr>\n",
              "  </thead>\n",
              "  <tbody>\n",
              "    <tr>\n",
              "      <th>0</th>\n",
              "      <td>1</td>\n",
              "      <td>Kuramon</td>\n",
              "      <td>Baby</td>\n",
              "      <td>Free</td>\n",
              "      <td>Neutral</td>\n",
              "      <td>2</td>\n",
              "      <td>0</td>\n",
              "      <td>590.0</td>\n",
              "      <td>77</td>\n",
              "      <td>79</td>\n",
              "      <td>69</td>\n",
              "      <td>68</td>\n",
              "      <td>95</td>\n",
              "    </tr>\n",
              "    <tr>\n",
              "      <th>1</th>\n",
              "      <td>2</td>\n",
              "      <td>Pabumon</td>\n",
              "      <td>Baby</td>\n",
              "      <td>Free</td>\n",
              "      <td>Neutral</td>\n",
              "      <td>2</td>\n",
              "      <td>0</td>\n",
              "      <td>950.0</td>\n",
              "      <td>62</td>\n",
              "      <td>76</td>\n",
              "      <td>76</td>\n",
              "      <td>69</td>\n",
              "      <td>68</td>\n",
              "    </tr>\n",
              "    <tr>\n",
              "      <th>2</th>\n",
              "      <td>3</td>\n",
              "      <td>Punimon</td>\n",
              "      <td>Baby</td>\n",
              "      <td>Free</td>\n",
              "      <td>Neutral</td>\n",
              "      <td>2</td>\n",
              "      <td>0</td>\n",
              "      <td>870.0</td>\n",
              "      <td>50</td>\n",
              "      <td>97</td>\n",
              "      <td>87</td>\n",
              "      <td>50</td>\n",
              "      <td>75</td>\n",
              "    </tr>\n",
              "    <tr>\n",
              "      <th>3</th>\n",
              "      <td>4</td>\n",
              "      <td>Botamon</td>\n",
              "      <td>Baby</td>\n",
              "      <td>Free</td>\n",
              "      <td>Neutral</td>\n",
              "      <td>2</td>\n",
              "      <td>0</td>\n",
              "      <td>690.0</td>\n",
              "      <td>68</td>\n",
              "      <td>77</td>\n",
              "      <td>95</td>\n",
              "      <td>76</td>\n",
              "      <td>61</td>\n",
              "    </tr>\n",
              "    <tr>\n",
              "      <th>4</th>\n",
              "      <td>5</td>\n",
              "      <td>Poyomon</td>\n",
              "      <td>Baby</td>\n",
              "      <td>Free</td>\n",
              "      <td>Neutral</td>\n",
              "      <td>2</td>\n",
              "      <td>0</td>\n",
              "      <td>540.0</td>\n",
              "      <td>98</td>\n",
              "      <td>54</td>\n",
              "      <td>59</td>\n",
              "      <td>95</td>\n",
              "      <td>86</td>\n",
              "    </tr>\n",
              "  </tbody>\n",
              "</table>\n",
              "</div>"
            ],
            "text/plain": [
              "   Number  Digimon Stage  Type  ... Lv50 Atk  Lv50 Def  Lv50 Int  Lv50 Spd\n",
              "0       1  Kuramon  Baby  Free  ...       79        69        68        95\n",
              "1       2  Pabumon  Baby  Free  ...       76        76        69        68\n",
              "2       3  Punimon  Baby  Free  ...       97        87        50        75\n",
              "3       4  Botamon  Baby  Free  ...       77        95        76        61\n",
              "4       5  Poyomon  Baby  Free  ...       54        59        95        86\n",
              "\n",
              "[5 rows x 13 columns]"
            ]
          },
          "metadata": {
            "tags": []
          },
          "execution_count": 4
        }
      ]
    },
    {
      "cell_type": "markdown",
      "metadata": {
        "id": "RhyS6-iZrcmD",
        "colab_type": "text"
      },
      "source": [
        "#### Count NA/NaN values in each column "
      ]
    },
    {
      "cell_type": "code",
      "metadata": {
        "id": "AlepmrPMrvZW",
        "colab_type": "code",
        "outputId": "70fd57ff-d8d6-41ad-c6c4-a50a6d21be21",
        "colab": {
          "base_uri": "https://localhost:8080/",
          "height": 266
        }
      },
      "source": [
        "df.isna().sum()"
      ],
      "execution_count": 5,
      "outputs": [
        {
          "output_type": "execute_result",
          "data": {
            "text/plain": [
              "Number         0\n",
              "Digimon        0\n",
              "Stage          3\n",
              "Type           4\n",
              "Attribute      0\n",
              "Memory         0\n",
              "Equip Slots    0\n",
              "Lv 50 HP       4\n",
              "Lv50 SP        0\n",
              "Lv50 Atk       0\n",
              "Lv50 Def       0\n",
              "Lv50 Int       0\n",
              "Lv50 Spd       0\n",
              "dtype: int64"
            ]
          },
          "metadata": {
            "tags": []
          },
          "execution_count": 5
        }
      ]
    },
    {
      "cell_type": "markdown",
      "metadata": {
        "id": "XkSMqf-RsSqr",
        "colab_type": "text"
      },
      "source": [
        "### Fill missing values with mode"
      ]
    },
    {
      "cell_type": "code",
      "metadata": {
        "id": "QpqZuQZYrxn1",
        "colab_type": "code",
        "colab": {}
      },
      "source": [
        "for col in df.columns:\n",
        "  col_mode = df[col].mode()[0]\n",
        "  df[col] = df[col].fillna(col_mode)"
      ],
      "execution_count": 0,
      "outputs": []
    },
    {
      "cell_type": "code",
      "metadata": {
        "id": "HMtyxm_GsiR3",
        "colab_type": "code",
        "outputId": "03a28357-fd9c-4926-fc3a-713302d4dec0",
        "colab": {
          "base_uri": "https://localhost:8080/",
          "height": 266
        }
      },
      "source": [
        "df.isna().sum()"
      ],
      "execution_count": 7,
      "outputs": [
        {
          "output_type": "execute_result",
          "data": {
            "text/plain": [
              "Number         0\n",
              "Digimon        0\n",
              "Stage          0\n",
              "Type           0\n",
              "Attribute      0\n",
              "Memory         0\n",
              "Equip Slots    0\n",
              "Lv 50 HP       0\n",
              "Lv50 SP        0\n",
              "Lv50 Atk       0\n",
              "Lv50 Def       0\n",
              "Lv50 Int       0\n",
              "Lv50 Spd       0\n",
              "dtype: int64"
            ]
          },
          "metadata": {
            "tags": []
          },
          "execution_count": 7
        }
      ]
    },
    {
      "cell_type": "markdown",
      "metadata": {
        "id": "dtHWAGKws8yQ",
        "colab_type": "text"
      },
      "source": [
        "### Show descriptive or summary statistics"
      ]
    },
    {
      "cell_type": "code",
      "metadata": {
        "id": "99QQhrHysj-b",
        "colab_type": "code",
        "outputId": "611aa541-348d-464a-8efe-3392899ed8ed",
        "colab": {
          "base_uri": "https://localhost:8080/",
          "height": 282
        }
      },
      "source": [
        "df.describe()"
      ],
      "execution_count": 8,
      "outputs": [
        {
          "output_type": "execute_result",
          "data": {
            "text/html": [
              "<div>\n",
              "<style scoped>\n",
              "    .dataframe tbody tr th:only-of-type {\n",
              "        vertical-align: middle;\n",
              "    }\n",
              "\n",
              "    .dataframe tbody tr th {\n",
              "        vertical-align: top;\n",
              "    }\n",
              "\n",
              "    .dataframe thead th {\n",
              "        text-align: right;\n",
              "    }\n",
              "</style>\n",
              "<table border=\"1\" class=\"dataframe\">\n",
              "  <thead>\n",
              "    <tr style=\"text-align: right;\">\n",
              "      <th></th>\n",
              "      <th>Number</th>\n",
              "      <th>Memory</th>\n",
              "      <th>Equip Slots</th>\n",
              "      <th>Lv 50 HP</th>\n",
              "      <th>Lv50 SP</th>\n",
              "      <th>Lv50 Atk</th>\n",
              "      <th>Lv50 Def</th>\n",
              "      <th>Lv50 Int</th>\n",
              "      <th>Lv50 Spd</th>\n",
              "    </tr>\n",
              "  </thead>\n",
              "  <tbody>\n",
              "    <tr>\n",
              "      <th>count</th>\n",
              "      <td>249.000000</td>\n",
              "      <td>249.000000</td>\n",
              "      <td>249.000000</td>\n",
              "      <td>249.000000</td>\n",
              "      <td>249.000000</td>\n",
              "      <td>249.000000</td>\n",
              "      <td>249.000000</td>\n",
              "      <td>249.000000</td>\n",
              "      <td>249.000000</td>\n",
              "    </tr>\n",
              "    <tr>\n",
              "      <th>mean</th>\n",
              "      <td>125.000000</td>\n",
              "      <td>11.987952</td>\n",
              "      <td>1.574297</td>\n",
              "      <td>1219.759036</td>\n",
              "      <td>109.779116</td>\n",
              "      <td>124.518072</td>\n",
              "      <td>116.377510</td>\n",
              "      <td>112.638554</td>\n",
              "      <td>120.401606</td>\n",
              "    </tr>\n",
              "    <tr>\n",
              "      <th>std</th>\n",
              "      <td>72.024301</td>\n",
              "      <td>6.616501</td>\n",
              "      <td>0.854012</td>\n",
              "      <td>325.290103</td>\n",
              "      <td>32.454115</td>\n",
              "      <td>45.639372</td>\n",
              "      <td>32.132696</td>\n",
              "      <td>41.562888</td>\n",
              "      <td>32.633339</td>\n",
              "    </tr>\n",
              "    <tr>\n",
              "      <th>min</th>\n",
              "      <td>1.000000</td>\n",
              "      <td>2.000000</td>\n",
              "      <td>0.000000</td>\n",
              "      <td>530.000000</td>\n",
              "      <td>50.000000</td>\n",
              "      <td>52.000000</td>\n",
              "      <td>59.000000</td>\n",
              "      <td>50.000000</td>\n",
              "      <td>61.000000</td>\n",
              "    </tr>\n",
              "    <tr>\n",
              "      <th>25%</th>\n",
              "      <td>63.000000</td>\n",
              "      <td>6.000000</td>\n",
              "      <td>1.000000</td>\n",
              "      <td>990.000000</td>\n",
              "      <td>84.000000</td>\n",
              "      <td>89.000000</td>\n",
              "      <td>93.000000</td>\n",
              "      <td>79.000000</td>\n",
              "      <td>92.000000</td>\n",
              "    </tr>\n",
              "    <tr>\n",
              "      <th>50%</th>\n",
              "      <td>125.000000</td>\n",
              "      <td>12.000000</td>\n",
              "      <td>1.000000</td>\n",
              "      <td>1180.000000</td>\n",
              "      <td>104.000000</td>\n",
              "      <td>119.000000</td>\n",
              "      <td>113.000000</td>\n",
              "      <td>104.000000</td>\n",
              "      <td>119.000000</td>\n",
              "    </tr>\n",
              "    <tr>\n",
              "      <th>75%</th>\n",
              "      <td>187.000000</td>\n",
              "      <td>18.000000</td>\n",
              "      <td>2.000000</td>\n",
              "      <td>1480.000000</td>\n",
              "      <td>132.000000</td>\n",
              "      <td>153.000000</td>\n",
              "      <td>138.000000</td>\n",
              "      <td>138.000000</td>\n",
              "      <td>143.000000</td>\n",
              "    </tr>\n",
              "    <tr>\n",
              "      <th>max</th>\n",
              "      <td>249.000000</td>\n",
              "      <td>25.000000</td>\n",
              "      <td>3.000000</td>\n",
              "      <td>2080.000000</td>\n",
              "      <td>203.000000</td>\n",
              "      <td>318.000000</td>\n",
              "      <td>213.000000</td>\n",
              "      <td>233.000000</td>\n",
              "      <td>218.000000</td>\n",
              "    </tr>\n",
              "  </tbody>\n",
              "</table>\n",
              "</div>"
            ],
            "text/plain": [
              "           Number      Memory  Equip Slots  ...    Lv50 Def    Lv50 Int    Lv50 Spd\n",
              "count  249.000000  249.000000   249.000000  ...  249.000000  249.000000  249.000000\n",
              "mean   125.000000   11.987952     1.574297  ...  116.377510  112.638554  120.401606\n",
              "std     72.024301    6.616501     0.854012  ...   32.132696   41.562888   32.633339\n",
              "min      1.000000    2.000000     0.000000  ...   59.000000   50.000000   61.000000\n",
              "25%     63.000000    6.000000     1.000000  ...   93.000000   79.000000   92.000000\n",
              "50%    125.000000   12.000000     1.000000  ...  113.000000  104.000000  119.000000\n",
              "75%    187.000000   18.000000     2.000000  ...  138.000000  138.000000  143.000000\n",
              "max    249.000000   25.000000     3.000000  ...  213.000000  233.000000  218.000000\n",
              "\n",
              "[8 rows x 9 columns]"
            ]
          },
          "metadata": {
            "tags": []
          },
          "execution_count": 8
        }
      ]
    },
    {
      "cell_type": "markdown",
      "metadata": {
        "id": "PKuRU4PDtUVF",
        "colab_type": "text"
      },
      "source": [
        "### Count the number of digimon"
      ]
    },
    {
      "cell_type": "code",
      "metadata": {
        "id": "BGIVvikzuEwl",
        "colab_type": "code",
        "outputId": "5babfcbb-6a5a-4b09-e5ad-7fe8de63d2c8",
        "colab": {
          "base_uri": "https://localhost:8080/",
          "height": 177
        }
      },
      "source": [
        "df['Stage'].value_counts()"
      ],
      "execution_count": 9,
      "outputs": [
        {
          "output_type": "execute_result",
          "data": {
            "text/plain": [
              "Mega           77\n",
              "Ultimate       58\n",
              "Champion       52\n",
              "Rookie         37\n",
              "In-Training    11\n",
              "Ultra           6\n",
              "Baby            5\n",
              "Armor           3\n",
              "Name: Stage, dtype: int64"
            ]
          },
          "metadata": {
            "tags": []
          },
          "execution_count": 9
        }
      ]
    },
    {
      "cell_type": "markdown",
      "metadata": {
        "id": "LAZR-lBBxCV8",
        "colab_type": "text"
      },
      "source": [
        "### Show average digimon's status"
      ]
    },
    {
      "cell_type": "code",
      "metadata": {
        "id": "KZm8Fot-vhKP",
        "colab_type": "code",
        "outputId": "88ab6792-8c4a-4e4e-e10f-e0c378aedb40",
        "colab": {
          "base_uri": "https://localhost:8080/",
          "height": 194
        }
      },
      "source": [
        "df.groupby(by='Type').mean().iloc[:,3:]"
      ],
      "execution_count": 10,
      "outputs": [
        {
          "output_type": "execute_result",
          "data": {
            "text/html": [
              "<div>\n",
              "<style scoped>\n",
              "    .dataframe tbody tr th:only-of-type {\n",
              "        vertical-align: middle;\n",
              "    }\n",
              "\n",
              "    .dataframe tbody tr th {\n",
              "        vertical-align: top;\n",
              "    }\n",
              "\n",
              "    .dataframe thead th {\n",
              "        text-align: right;\n",
              "    }\n",
              "</style>\n",
              "<table border=\"1\" class=\"dataframe\">\n",
              "  <thead>\n",
              "    <tr style=\"text-align: right;\">\n",
              "      <th></th>\n",
              "      <th>Lv 50 HP</th>\n",
              "      <th>Lv50 SP</th>\n",
              "      <th>Lv50 Atk</th>\n",
              "      <th>Lv50 Def</th>\n",
              "      <th>Lv50 Int</th>\n",
              "      <th>Lv50 Spd</th>\n",
              "    </tr>\n",
              "    <tr>\n",
              "      <th>Type</th>\n",
              "      <th></th>\n",
              "      <th></th>\n",
              "      <th></th>\n",
              "      <th></th>\n",
              "      <th></th>\n",
              "      <th></th>\n",
              "    </tr>\n",
              "  </thead>\n",
              "  <tbody>\n",
              "    <tr>\n",
              "      <th>Data</th>\n",
              "      <td>1198.833333</td>\n",
              "      <td>113.600000</td>\n",
              "      <td>120.366667</td>\n",
              "      <td>117.150000</td>\n",
              "      <td>118.966667</td>\n",
              "      <td>124.716667</td>\n",
              "    </tr>\n",
              "    <tr>\n",
              "      <th>Free</th>\n",
              "      <td>1068.235294</td>\n",
              "      <td>92.882353</td>\n",
              "      <td>114.000000</td>\n",
              "      <td>96.764706</td>\n",
              "      <td>87.323529</td>\n",
              "      <td>108.058824</td>\n",
              "    </tr>\n",
              "    <tr>\n",
              "      <th>Vaccine</th>\n",
              "      <td>1241.594203</td>\n",
              "      <td>115.521739</td>\n",
              "      <td>128.521739</td>\n",
              "      <td>120.275362</td>\n",
              "      <td>118.289855</td>\n",
              "      <td>128.840580</td>\n",
              "    </tr>\n",
              "    <tr>\n",
              "      <th>Virus</th>\n",
              "      <td>1276.744186</td>\n",
              "      <td>109.186047</td>\n",
              "      <td>128.360465</td>\n",
              "      <td>120.465116</td>\n",
              "      <td>113.697674</td>\n",
              "      <td>115.500000</td>\n",
              "    </tr>\n",
              "  </tbody>\n",
              "</table>\n",
              "</div>"
            ],
            "text/plain": [
              "            Lv 50 HP     Lv50 SP  ...    Lv50 Int    Lv50 Spd\n",
              "Type                              ...                        \n",
              "Data     1198.833333  113.600000  ...  118.966667  124.716667\n",
              "Free     1068.235294   92.882353  ...   87.323529  108.058824\n",
              "Vaccine  1241.594203  115.521739  ...  118.289855  128.840580\n",
              "Virus    1276.744186  109.186047  ...  113.697674  115.500000\n",
              "\n",
              "[4 rows x 6 columns]"
            ]
          },
          "metadata": {
            "tags": []
          },
          "execution_count": 10
        }
      ]
    },
    {
      "cell_type": "markdown",
      "metadata": {
        "id": "3tFJDNDyxYCq",
        "colab_type": "text"
      },
      "source": [
        "### Sort the dataframe by HP"
      ]
    },
    {
      "cell_type": "code",
      "metadata": {
        "id": "7QVGMqegxK9E",
        "colab_type": "code",
        "outputId": "60c74ba0-ae43-4fbc-c3da-d132a60fdbee",
        "colab": {
          "base_uri": "https://localhost:8080/",
          "height": 194
        }
      },
      "source": [
        "df.sort_values(by='Lv 50 HP', ascending=False).head()"
      ],
      "execution_count": 11,
      "outputs": [
        {
          "output_type": "execute_result",
          "data": {
            "text/html": [
              "<div>\n",
              "<style scoped>\n",
              "    .dataframe tbody tr th:only-of-type {\n",
              "        vertical-align: middle;\n",
              "    }\n",
              "\n",
              "    .dataframe tbody tr th {\n",
              "        vertical-align: top;\n",
              "    }\n",
              "\n",
              "    .dataframe thead th {\n",
              "        text-align: right;\n",
              "    }\n",
              "</style>\n",
              "<table border=\"1\" class=\"dataframe\">\n",
              "  <thead>\n",
              "    <tr style=\"text-align: right;\">\n",
              "      <th></th>\n",
              "      <th>Number</th>\n",
              "      <th>Digimon</th>\n",
              "      <th>Stage</th>\n",
              "      <th>Type</th>\n",
              "      <th>Attribute</th>\n",
              "      <th>Memory</th>\n",
              "      <th>Equip Slots</th>\n",
              "      <th>Lv 50 HP</th>\n",
              "      <th>Lv50 SP</th>\n",
              "      <th>Lv50 Atk</th>\n",
              "      <th>Lv50 Def</th>\n",
              "      <th>Lv50 Int</th>\n",
              "      <th>Lv50 Spd</th>\n",
              "    </tr>\n",
              "  </thead>\n",
              "  <tbody>\n",
              "    <tr>\n",
              "      <th>178</th>\n",
              "      <td>179</td>\n",
              "      <td>Gankoomon</td>\n",
              "      <td>Mega</td>\n",
              "      <td>Data</td>\n",
              "      <td>Fire</td>\n",
              "      <td>22</td>\n",
              "      <td>1</td>\n",
              "      <td>2080.0</td>\n",
              "      <td>90</td>\n",
              "      <td>188</td>\n",
              "      <td>163</td>\n",
              "      <td>109</td>\n",
              "      <td>138</td>\n",
              "    </tr>\n",
              "    <tr>\n",
              "      <th>133</th>\n",
              "      <td>134</td>\n",
              "      <td>ShogunGekomon</td>\n",
              "      <td>Ultimate</td>\n",
              "      <td>Virus</td>\n",
              "      <td>Water</td>\n",
              "      <td>12</td>\n",
              "      <td>2</td>\n",
              "      <td>1980.0</td>\n",
              "      <td>96</td>\n",
              "      <td>113</td>\n",
              "      <td>113</td>\n",
              "      <td>99</td>\n",
              "      <td>97</td>\n",
              "    </tr>\n",
              "    <tr>\n",
              "      <th>245</th>\n",
              "      <td>246</td>\n",
              "      <td>ShineGreymon BM</td>\n",
              "      <td>Mega</td>\n",
              "      <td>Vaccine</td>\n",
              "      <td>Fire</td>\n",
              "      <td>22</td>\n",
              "      <td>2</td>\n",
              "      <td>1980.0</td>\n",
              "      <td>114</td>\n",
              "      <td>228</td>\n",
              "      <td>104</td>\n",
              "      <td>84</td>\n",
              "      <td>168</td>\n",
              "    </tr>\n",
              "    <tr>\n",
              "      <th>193</th>\n",
              "      <td>194</td>\n",
              "      <td>Titamon</td>\n",
              "      <td>Mega</td>\n",
              "      <td>Virus</td>\n",
              "      <td>Earth</td>\n",
              "      <td>18</td>\n",
              "      <td>3</td>\n",
              "      <td>1930.0</td>\n",
              "      <td>99</td>\n",
              "      <td>183</td>\n",
              "      <td>128</td>\n",
              "      <td>114</td>\n",
              "      <td>129</td>\n",
              "    </tr>\n",
              "    <tr>\n",
              "      <th>187</th>\n",
              "      <td>188</td>\n",
              "      <td>ShineGreymon</td>\n",
              "      <td>Mega</td>\n",
              "      <td>Vaccine</td>\n",
              "      <td>Light</td>\n",
              "      <td>20</td>\n",
              "      <td>2</td>\n",
              "      <td>1880.0</td>\n",
              "      <td>114</td>\n",
              "      <td>203</td>\n",
              "      <td>109</td>\n",
              "      <td>84</td>\n",
              "      <td>158</td>\n",
              "    </tr>\n",
              "  </tbody>\n",
              "</table>\n",
              "</div>"
            ],
            "text/plain": [
              "     Number          Digimon     Stage  ... Lv50 Def Lv50 Int  Lv50 Spd\n",
              "178     179        Gankoomon      Mega  ...      163      109       138\n",
              "133     134    ShogunGekomon  Ultimate  ...      113       99        97\n",
              "245     246  ShineGreymon BM      Mega  ...      104       84       168\n",
              "193     194          Titamon      Mega  ...      128      114       129\n",
              "187     188     ShineGreymon      Mega  ...      109       84       158\n",
              "\n",
              "[5 rows x 13 columns]"
            ]
          },
          "metadata": {
            "tags": []
          },
          "execution_count": 11
        }
      ]
    },
    {
      "cell_type": "markdown",
      "metadata": {
        "id": "8ZqW0CMTyJ13",
        "colab_type": "text"
      },
      "source": [
        "### Select only the virus digimons"
      ]
    },
    {
      "cell_type": "code",
      "metadata": {
        "id": "WsCAWNwCxoDc",
        "colab_type": "code",
        "colab": {}
      },
      "source": [
        "sel_index = (df['Type'] == 'Virus')"
      ],
      "execution_count": 0,
      "outputs": []
    },
    {
      "cell_type": "code",
      "metadata": {
        "id": "GVb2cHAIyfuT",
        "colab_type": "code",
        "outputId": "2d4eeffa-3c73-4b5d-ae94-81f1ad835b39",
        "colab": {
          "base_uri": "https://localhost:8080/",
          "height": 399
        }
      },
      "source": [
        "df[sel_index]"
      ],
      "execution_count": 13,
      "outputs": [
        {
          "output_type": "execute_result",
          "data": {
            "text/html": [
              "<div>\n",
              "<style scoped>\n",
              "    .dataframe tbody tr th:only-of-type {\n",
              "        vertical-align: middle;\n",
              "    }\n",
              "\n",
              "    .dataframe tbody tr th {\n",
              "        vertical-align: top;\n",
              "    }\n",
              "\n",
              "    .dataframe thead th {\n",
              "        text-align: right;\n",
              "    }\n",
              "</style>\n",
              "<table border=\"1\" class=\"dataframe\">\n",
              "  <thead>\n",
              "    <tr style=\"text-align: right;\">\n",
              "      <th></th>\n",
              "      <th>Number</th>\n",
              "      <th>Digimon</th>\n",
              "      <th>Stage</th>\n",
              "      <th>Type</th>\n",
              "      <th>Attribute</th>\n",
              "      <th>Memory</th>\n",
              "      <th>Equip Slots</th>\n",
              "      <th>Lv 50 HP</th>\n",
              "      <th>Lv50 SP</th>\n",
              "      <th>Lv50 Atk</th>\n",
              "      <th>Lv50 Def</th>\n",
              "      <th>Lv50 Int</th>\n",
              "      <th>Lv50 Spd</th>\n",
              "    </tr>\n",
              "  </thead>\n",
              "  <tbody>\n",
              "    <tr>\n",
              "      <th>12</th>\n",
              "      <td>13</td>\n",
              "      <td>Yokomon</td>\n",
              "      <td>In-Training</td>\n",
              "      <td>Virus</td>\n",
              "      <td>Plant</td>\n",
              "      <td>3</td>\n",
              "      <td>0</td>\n",
              "      <td>1480.0</td>\n",
              "      <td>64</td>\n",
              "      <td>82</td>\n",
              "      <td>82</td>\n",
              "      <td>75</td>\n",
              "      <td>69</td>\n",
              "    </tr>\n",
              "    <tr>\n",
              "      <th>13</th>\n",
              "      <td>14</td>\n",
              "      <td>Bukamon</td>\n",
              "      <td>In-Training</td>\n",
              "      <td>Virus</td>\n",
              "      <td>Water</td>\n",
              "      <td>3</td>\n",
              "      <td>0</td>\n",
              "      <td>830.0</td>\n",
              "      <td>93</td>\n",
              "      <td>54</td>\n",
              "      <td>74</td>\n",
              "      <td>103</td>\n",
              "      <td>69</td>\n",
              "    </tr>\n",
              "    <tr>\n",
              "      <th>17</th>\n",
              "      <td>18</td>\n",
              "      <td>Agumon (Blk)</td>\n",
              "      <td>Rookie</td>\n",
              "      <td>Virus</td>\n",
              "      <td>Fire</td>\n",
              "      <td>5</td>\n",
              "      <td>1</td>\n",
              "      <td>1020.0</td>\n",
              "      <td>56</td>\n",
              "      <td>124</td>\n",
              "      <td>108</td>\n",
              "      <td>56</td>\n",
              "      <td>85</td>\n",
              "    </tr>\n",
              "    <tr>\n",
              "      <th>19</th>\n",
              "      <td>20</td>\n",
              "      <td>Impmon</td>\n",
              "      <td>Rookie</td>\n",
              "      <td>Virus</td>\n",
              "      <td>Dark</td>\n",
              "      <td>5</td>\n",
              "      <td>1</td>\n",
              "      <td>530.0</td>\n",
              "      <td>114</td>\n",
              "      <td>83</td>\n",
              "      <td>65</td>\n",
              "      <td>114</td>\n",
              "      <td>102</td>\n",
              "    </tr>\n",
              "    <tr>\n",
              "      <th>21</th>\n",
              "      <td>22</td>\n",
              "      <td>Otamamon</td>\n",
              "      <td>Mega</td>\n",
              "      <td>Virus</td>\n",
              "      <td>Water</td>\n",
              "      <td>4</td>\n",
              "      <td>1</td>\n",
              "      <td>930.0</td>\n",
              "      <td>105</td>\n",
              "      <td>52</td>\n",
              "      <td>75</td>\n",
              "      <td>113</td>\n",
              "      <td>78</td>\n",
              "    </tr>\n",
              "    <tr>\n",
              "      <th>...</th>\n",
              "      <td>...</td>\n",
              "      <td>...</td>\n",
              "      <td>...</td>\n",
              "      <td>...</td>\n",
              "      <td>...</td>\n",
              "      <td>...</td>\n",
              "      <td>...</td>\n",
              "      <td>...</td>\n",
              "      <td>...</td>\n",
              "      <td>...</td>\n",
              "      <td>...</td>\n",
              "      <td>...</td>\n",
              "      <td>...</td>\n",
              "    </tr>\n",
              "    <tr>\n",
              "      <th>235</th>\n",
              "      <td>236</td>\n",
              "      <td>Belphemon RM</td>\n",
              "      <td>Ultra</td>\n",
              "      <td>Virus</td>\n",
              "      <td>Dark</td>\n",
              "      <td>25</td>\n",
              "      <td>0</td>\n",
              "      <td>1780.0</td>\n",
              "      <td>84</td>\n",
              "      <td>247</td>\n",
              "      <td>168</td>\n",
              "      <td>109</td>\n",
              "      <td>140</td>\n",
              "    </tr>\n",
              "    <tr>\n",
              "      <th>236</th>\n",
              "      <td>237</td>\n",
              "      <td>Lucemon SM</td>\n",
              "      <td>Ultra</td>\n",
              "      <td>Virus</td>\n",
              "      <td>Dark</td>\n",
              "      <td>25</td>\n",
              "      <td>0</td>\n",
              "      <td>1490.0</td>\n",
              "      <td>173</td>\n",
              "      <td>89</td>\n",
              "      <td>124</td>\n",
              "      <td>233</td>\n",
              "      <td>158</td>\n",
              "    </tr>\n",
              "    <tr>\n",
              "      <th>240</th>\n",
              "      <td>241</td>\n",
              "      <td>Kerpymon (Blk)</td>\n",
              "      <td>Mega</td>\n",
              "      <td>Virus</td>\n",
              "      <td>Dark</td>\n",
              "      <td>20</td>\n",
              "      <td>1</td>\n",
              "      <td>1290.0</td>\n",
              "      <td>188</td>\n",
              "      <td>94</td>\n",
              "      <td>94</td>\n",
              "      <td>223</td>\n",
              "      <td>153</td>\n",
              "    </tr>\n",
              "    <tr>\n",
              "      <th>241</th>\n",
              "      <td>242</td>\n",
              "      <td>Beelzemon BM</td>\n",
              "      <td>Mega</td>\n",
              "      <td>Virus</td>\n",
              "      <td>Dark</td>\n",
              "      <td>25</td>\n",
              "      <td>1</td>\n",
              "      <td>1680.0</td>\n",
              "      <td>114</td>\n",
              "      <td>238</td>\n",
              "      <td>124</td>\n",
              "      <td>104</td>\n",
              "      <td>178</td>\n",
              "    </tr>\n",
              "    <tr>\n",
              "      <th>242</th>\n",
              "      <td>243</td>\n",
              "      <td>Darkdramon</td>\n",
              "      <td>Mega</td>\n",
              "      <td>Virus</td>\n",
              "      <td>Electric</td>\n",
              "      <td>18</td>\n",
              "      <td>3</td>\n",
              "      <td>1580.0</td>\n",
              "      <td>94</td>\n",
              "      <td>188</td>\n",
              "      <td>148</td>\n",
              "      <td>99</td>\n",
              "      <td>139</td>\n",
              "    </tr>\n",
              "  </tbody>\n",
              "</table>\n",
              "<p>86 rows × 13 columns</p>\n",
              "</div>"
            ],
            "text/plain": [
              "     Number         Digimon        Stage  ... Lv50 Def Lv50 Int  Lv50 Spd\n",
              "12       13         Yokomon  In-Training  ...       82       75        69\n",
              "13       14         Bukamon  In-Training  ...       74      103        69\n",
              "17       18    Agumon (Blk)       Rookie  ...      108       56        85\n",
              "19       20          Impmon       Rookie  ...       65      114       102\n",
              "21       22        Otamamon         Mega  ...       75      113        78\n",
              "..      ...             ...          ...  ...      ...      ...       ...\n",
              "235     236    Belphemon RM        Ultra  ...      168      109       140\n",
              "236     237      Lucemon SM        Ultra  ...      124      233       158\n",
              "240     241  Kerpymon (Blk)         Mega  ...       94      223       153\n",
              "241     242    Beelzemon BM         Mega  ...      124      104       178\n",
              "242     243      Darkdramon         Mega  ...      148       99       139\n",
              "\n",
              "[86 rows x 13 columns]"
            ]
          },
          "metadata": {
            "tags": []
          },
          "execution_count": 13
        }
      ]
    },
    {
      "cell_type": "markdown",
      "metadata": {
        "id": "9qHcWqQQ00bd",
        "colab_type": "text"
      },
      "source": [
        "### Create a new column called total_status"
      ]
    },
    {
      "cell_type": "code",
      "metadata": {
        "id": "CBvY_3HiyhMZ",
        "colab_type": "code",
        "outputId": "7de6a040-d3c0-45c6-d85b-21915313d4fb",
        "colab": {
          "base_uri": "https://localhost:8080/",
          "height": 88
        }
      },
      "source": [
        "df.columns"
      ],
      "execution_count": 14,
      "outputs": [
        {
          "output_type": "execute_result",
          "data": {
            "text/plain": [
              "Index(['Number', 'Digimon', 'Stage', 'Type', 'Attribute', 'Memory',\n",
              "       'Equip Slots', 'Lv 50 HP', 'Lv50 SP', 'Lv50 Atk', 'Lv50 Def',\n",
              "       'Lv50 Int', 'Lv50 Spd'],\n",
              "      dtype='object')"
            ]
          },
          "metadata": {
            "tags": []
          },
          "execution_count": 14
        }
      ]
    },
    {
      "cell_type": "code",
      "metadata": {
        "id": "FRszZ9sb1BRe",
        "colab_type": "code",
        "colab": {}
      },
      "source": [
        "status_cols = ['Lv50 SP', 'Lv50 Atk', 'Lv50 Def', 'Lv50 Int', 'Lv50 Spd']\n",
        "\n",
        "df['total_status'] = 0\n",
        "for col in status_cols:\n",
        "  df['total_status'] += df[col]"
      ],
      "execution_count": 0,
      "outputs": []
    },
    {
      "cell_type": "code",
      "metadata": {
        "id": "2bDqlFoc1WAe",
        "colab_type": "code",
        "outputId": "a2a96491-7140-46d4-8328-9d76ea8d4c01",
        "colab": {
          "base_uri": "https://localhost:8080/",
          "height": 194
        }
      },
      "source": [
        "df.head()"
      ],
      "execution_count": 16,
      "outputs": [
        {
          "output_type": "execute_result",
          "data": {
            "text/html": [
              "<div>\n",
              "<style scoped>\n",
              "    .dataframe tbody tr th:only-of-type {\n",
              "        vertical-align: middle;\n",
              "    }\n",
              "\n",
              "    .dataframe tbody tr th {\n",
              "        vertical-align: top;\n",
              "    }\n",
              "\n",
              "    .dataframe thead th {\n",
              "        text-align: right;\n",
              "    }\n",
              "</style>\n",
              "<table border=\"1\" class=\"dataframe\">\n",
              "  <thead>\n",
              "    <tr style=\"text-align: right;\">\n",
              "      <th></th>\n",
              "      <th>Number</th>\n",
              "      <th>Digimon</th>\n",
              "      <th>Stage</th>\n",
              "      <th>Type</th>\n",
              "      <th>Attribute</th>\n",
              "      <th>Memory</th>\n",
              "      <th>Equip Slots</th>\n",
              "      <th>Lv 50 HP</th>\n",
              "      <th>Lv50 SP</th>\n",
              "      <th>Lv50 Atk</th>\n",
              "      <th>Lv50 Def</th>\n",
              "      <th>Lv50 Int</th>\n",
              "      <th>Lv50 Spd</th>\n",
              "      <th>total_status</th>\n",
              "    </tr>\n",
              "  </thead>\n",
              "  <tbody>\n",
              "    <tr>\n",
              "      <th>0</th>\n",
              "      <td>1</td>\n",
              "      <td>Kuramon</td>\n",
              "      <td>Baby</td>\n",
              "      <td>Free</td>\n",
              "      <td>Neutral</td>\n",
              "      <td>2</td>\n",
              "      <td>0</td>\n",
              "      <td>590.0</td>\n",
              "      <td>77</td>\n",
              "      <td>79</td>\n",
              "      <td>69</td>\n",
              "      <td>68</td>\n",
              "      <td>95</td>\n",
              "      <td>388</td>\n",
              "    </tr>\n",
              "    <tr>\n",
              "      <th>1</th>\n",
              "      <td>2</td>\n",
              "      <td>Pabumon</td>\n",
              "      <td>Baby</td>\n",
              "      <td>Free</td>\n",
              "      <td>Neutral</td>\n",
              "      <td>2</td>\n",
              "      <td>0</td>\n",
              "      <td>950.0</td>\n",
              "      <td>62</td>\n",
              "      <td>76</td>\n",
              "      <td>76</td>\n",
              "      <td>69</td>\n",
              "      <td>68</td>\n",
              "      <td>351</td>\n",
              "    </tr>\n",
              "    <tr>\n",
              "      <th>2</th>\n",
              "      <td>3</td>\n",
              "      <td>Punimon</td>\n",
              "      <td>Baby</td>\n",
              "      <td>Free</td>\n",
              "      <td>Neutral</td>\n",
              "      <td>2</td>\n",
              "      <td>0</td>\n",
              "      <td>870.0</td>\n",
              "      <td>50</td>\n",
              "      <td>97</td>\n",
              "      <td>87</td>\n",
              "      <td>50</td>\n",
              "      <td>75</td>\n",
              "      <td>359</td>\n",
              "    </tr>\n",
              "    <tr>\n",
              "      <th>3</th>\n",
              "      <td>4</td>\n",
              "      <td>Botamon</td>\n",
              "      <td>Baby</td>\n",
              "      <td>Free</td>\n",
              "      <td>Neutral</td>\n",
              "      <td>2</td>\n",
              "      <td>0</td>\n",
              "      <td>690.0</td>\n",
              "      <td>68</td>\n",
              "      <td>77</td>\n",
              "      <td>95</td>\n",
              "      <td>76</td>\n",
              "      <td>61</td>\n",
              "      <td>377</td>\n",
              "    </tr>\n",
              "    <tr>\n",
              "      <th>4</th>\n",
              "      <td>5</td>\n",
              "      <td>Poyomon</td>\n",
              "      <td>Baby</td>\n",
              "      <td>Free</td>\n",
              "      <td>Neutral</td>\n",
              "      <td>2</td>\n",
              "      <td>0</td>\n",
              "      <td>540.0</td>\n",
              "      <td>98</td>\n",
              "      <td>54</td>\n",
              "      <td>59</td>\n",
              "      <td>95</td>\n",
              "      <td>86</td>\n",
              "      <td>392</td>\n",
              "    </tr>\n",
              "  </tbody>\n",
              "</table>\n",
              "</div>"
            ],
            "text/plain": [
              "   Number  Digimon Stage  Type  ... Lv50 Def  Lv50 Int  Lv50 Spd  total_status\n",
              "0       1  Kuramon  Baby  Free  ...       69        68        95           388\n",
              "1       2  Pabumon  Baby  Free  ...       76        69        68           351\n",
              "2       3  Punimon  Baby  Free  ...       87        50        75           359\n",
              "3       4  Botamon  Baby  Free  ...       95        76        61           377\n",
              "4       5  Poyomon  Baby  Free  ...       59        95        86           392\n",
              "\n",
              "[5 rows x 14 columns]"
            ]
          },
          "metadata": {
            "tags": []
          },
          "execution_count": 16
        }
      ]
    },
    {
      "cell_type": "markdown",
      "metadata": {
        "id": "d0JpvOwK3mdd",
        "colab_type": "text"
      },
      "source": [
        "### Plot graph"
      ]
    },
    {
      "cell_type": "markdown",
      "metadata": {
        "id": "xutjgjwO1_Ph",
        "colab_type": "text"
      },
      "source": [
        "#### Histrogram"
      ]
    },
    {
      "cell_type": "code",
      "metadata": {
        "id": "L1jwImls1Xao",
        "colab_type": "code",
        "outputId": "a89ccaf7-7dfa-4d13-b8e6-eafa0fe3ba0d",
        "colab": {
          "base_uri": "https://localhost:8080/",
          "height": 283
        }
      },
      "source": [
        "df['total_status'].hist()"
      ],
      "execution_count": 17,
      "outputs": [
        {
          "output_type": "execute_result",
          "data": {
            "text/plain": [
              "<matplotlib.axes._subplots.AxesSubplot at 0x7f2087a6e9b0>"
            ]
          },
          "metadata": {
            "tags": []
          },
          "execution_count": 17
        },
        {
          "output_type": "display_data",
          "data": {
            "image/png": "[encoded data removed]",
            "text/plain": [
              "<Figure size 432x288 with 1 Axes>"
            ]
          },
          "metadata": {
            "tags": []
          }
        }
      ]
    },
    {
      "cell_type": "code",
      "metadata": {
        "id": "2dtlehVc2L8a",
        "colab_type": "code",
        "outputId": "63fc8543-ca49-41b8-f1c3-836639ad39ae",
        "colab": {
          "base_uri": "https://localhost:8080/",
          "height": 265
        }
      },
      "source": [
        "for col in status_cols:\n",
        "  df[col].hist(alpha=0.5)\n",
        "\n",
        "plt.legend(status_cols)\n",
        "plt.show()"
      ],
      "execution_count": 18,
      "outputs": [
        {
          "output_type": "display_data",
          "data": {
            "image/png": "[encoded data removed]",
            "text/plain": [
              "<Figure size 432x288 with 1 Axes>"
            ]
          },
          "metadata": {
            "tags": []
          }
        }
      ]
    },
    {
      "cell_type": "markdown",
      "metadata": {
        "id": "dkkrzAe526dM",
        "colab_type": "text"
      },
      "source": [
        "#### Scatter plot"
      ]
    },
    {
      "cell_type": "code",
      "metadata": {
        "id": "GAjYDkTJ2PKd",
        "colab_type": "code",
        "outputId": "88ec4895-4e7b-41a6-a0e7-2f7687fbd576",
        "colab": {
          "base_uri": "https://localhost:8080/",
          "height": 300
        }
      },
      "source": [
        "df.plot.scatter(x='Lv50 Atk', y='Lv50 Def')"
      ],
      "execution_count": 19,
      "outputs": [
        {
          "output_type": "execute_result",
          "data": {
            "text/plain": [
              "<matplotlib.axes._subplots.AxesSubplot at 0x7f208624e4a8>"
            ]
          },
          "metadata": {
            "tags": []
          },
          "execution_count": 19
        },
        {
          "output_type": "display_data",
          "data": {
            "image/png": "[encoded data removed]",
            "text/plain": [
              "<Figure size 432x288 with 1 Axes>"
            ]
          },
          "metadata": {
            "tags": []
          }
        }
      ]
    },
    {
      "cell_type": "code",
      "metadata": {
        "id": "-lzaRVZO3FUx",
        "colab_type": "code",
        "outputId": "ae7f7ed9-99ca-49d8-cd93-75b43f7649a3",
        "colab": {
          "base_uri": "https://localhost:8080/",
          "height": 274
        }
      },
      "source": [
        "df.plot.scatter(x='Lv50 Atk', y='Lv50 Def', c='Memory')"
      ],
      "execution_count": 20,
      "outputs": [
        {
          "output_type": "execute_result",
          "data": {
            "text/plain": [
              "<matplotlib.axes._subplots.AxesSubplot at 0x7f2083923a58>"
            ]
          },
          "metadata": {
            "tags": []
          },
          "execution_count": 20
        },
        {
          "output_type": "display_data",
          "data": {
            "image/png": "[encoded data removed]",
            "text/plain": [
              "<Figure size 432x288 with 2 Axes>"
            ]
          },
          "metadata": {
            "tags": []
          }
        }
      ]
    },
    {
      "cell_type": "markdown",
      "metadata": {
        "id": "fVyPYkpB315S",
        "colab_type": "text"
      },
      "source": [
        "#### Box plot"
      ]
    },
    {
      "cell_type": "code",
      "metadata": {
        "id": "0YjMin1p3TTl",
        "colab_type": "code",
        "outputId": "94ad8438-d0f8-45cd-ed63-7dd5efac650d",
        "colab": {
          "base_uri": "https://localhost:8080/",
          "height": 283
        }
      },
      "source": [
        "df[status_cols].boxplot()"
      ],
      "execution_count": 21,
      "outputs": [
        {
          "output_type": "execute_result",
          "data": {
            "text/plain": [
              "<matplotlib.axes._subplots.AxesSubplot at 0x7f2086277dd8>"
            ]
          },
          "metadata": {
            "tags": []
          },
          "execution_count": 21
        },
        {
          "output_type": "display_data",
          "data": {
            "image/png": "[encoded data removed]",
            "text/plain": [
              "<Figure size 432x288 with 1 Axes>"
            ]
          },
          "metadata": {
            "tags": []
          }
        }
      ]
    },
    {
      "cell_type": "markdown",
      "metadata": {
        "id": "3Siud7qa4H3z",
        "colab_type": "text"
      },
      "source": [
        "#### Bar plot"
      ]
    },
    {
      "cell_type": "code",
      "metadata": {
        "id": "L0xLOx_K4HQ0",
        "colab_type": "code",
        "outputId": "7a9323ba-7c1e-45ae-a4db-c6ca0633d83e",
        "colab": {
          "base_uri": "https://localhost:8080/",
          "height": 283
        }
      },
      "source": [
        "df[status_cols].mean().plot.barh()"
      ],
      "execution_count": 22,
      "outputs": [
        {
          "output_type": "execute_result",
          "data": {
            "text/plain": [
              "<matplotlib.axes._subplots.AxesSubplot at 0x7f2083792cc0>"
            ]
          },
          "metadata": {
            "tags": []
          },
          "execution_count": 22
        },
        {
          "output_type": "display_data",
          "data": {
            "image/png": "[encoded data removed]",
            "text/plain": [
              "<Figure size 432x288 with 1 Axes>"
            ]
          },
          "metadata": {
            "tags": []
          }
        }
      ]
    },
    {
      "cell_type": "markdown",
      "metadata": {
        "id": "aUYIk2Em4uOj",
        "colab_type": "text"
      },
      "source": [
        "### Merge table"
      ]
    },
    {
      "cell_type": "code",
      "metadata": {
        "id": "K_AWZvFC39O5",
        "colab_type": "code",
        "colab": {}
      },
      "source": [
        "df2 = df.groupby(by='Attribute').mean().reset_index()\n",
        "df2 = df2[['Attribute', 'Memory']]\n",
        "df2.columns = ['Attribute', 'AvgMemory']"
      ],
      "execution_count": 0,
      "outputs": []
    },
    {
      "cell_type": "code",
      "metadata": {
        "id": "bNRDRJCB7E8Z",
        "colab_type": "code",
        "outputId": "09193d11-84db-40d9-d7b9-7156e9cdf11a",
        "colab": {
          "base_uri": "https://localhost:8080/",
          "height": 311
        }
      },
      "source": [
        "df2"
      ],
      "execution_count": 24,
      "outputs": [
        {
          "output_type": "execute_result",
          "data": {
            "text/html": [
              "<div>\n",
              "<style scoped>\n",
              "    .dataframe tbody tr th:only-of-type {\n",
              "        vertical-align: middle;\n",
              "    }\n",
              "\n",
              "    .dataframe tbody tr th {\n",
              "        vertical-align: top;\n",
              "    }\n",
              "\n",
              "    .dataframe thead th {\n",
              "        text-align: right;\n",
              "    }\n",
              "</style>\n",
              "<table border=\"1\" class=\"dataframe\">\n",
              "  <thead>\n",
              "    <tr style=\"text-align: right;\">\n",
              "      <th></th>\n",
              "      <th>Attribute</th>\n",
              "      <th>AvgMemory</th>\n",
              "    </tr>\n",
              "  </thead>\n",
              "  <tbody>\n",
              "    <tr>\n",
              "      <th>0</th>\n",
              "      <td>Dark</td>\n",
              "      <td>14.540541</td>\n",
              "    </tr>\n",
              "    <tr>\n",
              "      <th>1</th>\n",
              "      <td>Earth</td>\n",
              "      <td>10.541667</td>\n",
              "    </tr>\n",
              "    <tr>\n",
              "      <th>2</th>\n",
              "      <td>Electric</td>\n",
              "      <td>12.160000</td>\n",
              "    </tr>\n",
              "    <tr>\n",
              "      <th>3</th>\n",
              "      <td>Fire</td>\n",
              "      <td>11.000000</td>\n",
              "    </tr>\n",
              "    <tr>\n",
              "      <th>4</th>\n",
              "      <td>Light</td>\n",
              "      <td>14.827586</td>\n",
              "    </tr>\n",
              "    <tr>\n",
              "      <th>5</th>\n",
              "      <td>Neutral</td>\n",
              "      <td>10.785714</td>\n",
              "    </tr>\n",
              "    <tr>\n",
              "      <th>6</th>\n",
              "      <td>Plant</td>\n",
              "      <td>9.760000</td>\n",
              "    </tr>\n",
              "    <tr>\n",
              "      <th>7</th>\n",
              "      <td>Water</td>\n",
              "      <td>10.833333</td>\n",
              "    </tr>\n",
              "    <tr>\n",
              "      <th>8</th>\n",
              "      <td>Wind</td>\n",
              "      <td>12.125000</td>\n",
              "    </tr>\n",
              "  </tbody>\n",
              "</table>\n",
              "</div>"
            ],
            "text/plain": [
              "  Attribute  AvgMemory\n",
              "0      Dark  14.540541\n",
              "1     Earth  10.541667\n",
              "2  Electric  12.160000\n",
              "3      Fire  11.000000\n",
              "4     Light  14.827586\n",
              "5   Neutral  10.785714\n",
              "6     Plant   9.760000\n",
              "7     Water  10.833333\n",
              "8      Wind  12.125000"
            ]
          },
          "metadata": {
            "tags": []
          },
          "execution_count": 24
        }
      ]
    },
    {
      "cell_type": "code",
      "metadata": {
        "id": "M8a0dPUa4996",
        "colab_type": "code",
        "colab": {}
      },
      "source": [
        "# https://pandas.pydata.org/pandas-docs/stable/reference/api/pandas.DataFrame.merge.html\n",
        "merge_df = pd.merge(df, df2, on='Attribute', how='left')"
      ],
      "execution_count": 0,
      "outputs": []
    },
    {
      "cell_type": "code",
      "metadata": {
        "id": "n-RqfcI45Ald",
        "colab_type": "code",
        "outputId": "bcb2030d-f5f4-4019-c0ee-e3c9173dbc7f",
        "colab": {
          "base_uri": "https://localhost:8080/",
          "height": 357
        }
      },
      "source": [
        "merge_df.sample(10)"
      ],
      "execution_count": 26,
      "outputs": [
        {
          "output_type": "execute_result",
          "data": {
            "text/html": [
              "<div>\n",
              "<style scoped>\n",
              "    .dataframe tbody tr th:only-of-type {\n",
              "        vertical-align: middle;\n",
              "    }\n",
              "\n",
              "    .dataframe tbody tr th {\n",
              "        vertical-align: top;\n",
              "    }\n",
              "\n",
              "    .dataframe thead th {\n",
              "        text-align: right;\n",
              "    }\n",
              "</style>\n",
              "<table border=\"1\" class=\"dataframe\">\n",
              "  <thead>\n",
              "    <tr style=\"text-align: right;\">\n",
              "      <th></th>\n",
              "      <th>Number</th>\n",
              "      <th>Digimon</th>\n",
              "      <th>Stage</th>\n",
              "      <th>Type</th>\n",
              "      <th>Attribute</th>\n",
              "      <th>Memory</th>\n",
              "      <th>Equip Slots</th>\n",
              "      <th>Lv 50 HP</th>\n",
              "      <th>Lv50 SP</th>\n",
              "      <th>Lv50 Atk</th>\n",
              "      <th>Lv50 Def</th>\n",
              "      <th>Lv50 Int</th>\n",
              "      <th>Lv50 Spd</th>\n",
              "      <th>total_status</th>\n",
              "      <th>AvgMemory</th>\n",
              "    </tr>\n",
              "  </thead>\n",
              "  <tbody>\n",
              "    <tr>\n",
              "      <th>100</th>\n",
              "      <td>101</td>\n",
              "      <td>BlackGatomon</td>\n",
              "      <td>Champion</td>\n",
              "      <td>Virus</td>\n",
              "      <td>Dark</td>\n",
              "      <td>8</td>\n",
              "      <td>1</td>\n",
              "      <td>690.0</td>\n",
              "      <td>133</td>\n",
              "      <td>84</td>\n",
              "      <td>84</td>\n",
              "      <td>133</td>\n",
              "      <td>118</td>\n",
              "      <td>552</td>\n",
              "      <td>14.540541</td>\n",
              "    </tr>\n",
              "    <tr>\n",
              "      <th>220</th>\n",
              "      <td>221</td>\n",
              "      <td>Machinedramon</td>\n",
              "      <td>Mega</td>\n",
              "      <td>Virus</td>\n",
              "      <td>Electric</td>\n",
              "      <td>18</td>\n",
              "      <td>3</td>\n",
              "      <td>1240.0</td>\n",
              "      <td>114</td>\n",
              "      <td>173</td>\n",
              "      <td>183</td>\n",
              "      <td>128</td>\n",
              "      <td>124</td>\n",
              "      <td>722</td>\n",
              "      <td>12.160000</td>\n",
              "    </tr>\n",
              "    <tr>\n",
              "      <th>43</th>\n",
              "      <td>44</td>\n",
              "      <td>Biyomon</td>\n",
              "      <td>Rookie</td>\n",
              "      <td>Vaccine</td>\n",
              "      <td>Wind</td>\n",
              "      <td>4</td>\n",
              "      <td>1</td>\n",
              "      <td>830.0</td>\n",
              "      <td>93</td>\n",
              "      <td>85</td>\n",
              "      <td>79</td>\n",
              "      <td>85</td>\n",
              "      <td>91</td>\n",
              "      <td>433</td>\n",
              "      <td>12.125000</td>\n",
              "    </tr>\n",
              "    <tr>\n",
              "      <th>216</th>\n",
              "      <td>217</td>\n",
              "      <td>Mastemon</td>\n",
              "      <td>Mega</td>\n",
              "      <td>Vaccine</td>\n",
              "      <td>Neutral</td>\n",
              "      <td>22</td>\n",
              "      <td>1</td>\n",
              "      <td>1340.0</td>\n",
              "      <td>144</td>\n",
              "      <td>173</td>\n",
              "      <td>134</td>\n",
              "      <td>173</td>\n",
              "      <td>149</td>\n",
              "      <td>773</td>\n",
              "      <td>10.785714</td>\n",
              "    </tr>\n",
              "    <tr>\n",
              "      <th>208</th>\n",
              "      <td>209</td>\n",
              "      <td>PrinceMamemon</td>\n",
              "      <td>Mega</td>\n",
              "      <td>Data</td>\n",
              "      <td>Neutral</td>\n",
              "      <td>16</td>\n",
              "      <td>3</td>\n",
              "      <td>1630.0</td>\n",
              "      <td>137</td>\n",
              "      <td>104</td>\n",
              "      <td>173</td>\n",
              "      <td>109</td>\n",
              "      <td>130</td>\n",
              "      <td>653</td>\n",
              "      <td>10.785714</td>\n",
              "    </tr>\n",
              "    <tr>\n",
              "      <th>193</th>\n",
              "      <td>194</td>\n",
              "      <td>Titamon</td>\n",
              "      <td>Mega</td>\n",
              "      <td>Virus</td>\n",
              "      <td>Earth</td>\n",
              "      <td>18</td>\n",
              "      <td>3</td>\n",
              "      <td>1930.0</td>\n",
              "      <td>99</td>\n",
              "      <td>183</td>\n",
              "      <td>128</td>\n",
              "      <td>114</td>\n",
              "      <td>129</td>\n",
              "      <td>653</td>\n",
              "      <td>10.541667</td>\n",
              "    </tr>\n",
              "    <tr>\n",
              "      <th>140</th>\n",
              "      <td>141</td>\n",
              "      <td>Piximon</td>\n",
              "      <td>Ultimate</td>\n",
              "      <td>Data</td>\n",
              "      <td>Light</td>\n",
              "      <td>12</td>\n",
              "      <td>2</td>\n",
              "      <td>990.0</td>\n",
              "      <td>123</td>\n",
              "      <td>104</td>\n",
              "      <td>104</td>\n",
              "      <td>134</td>\n",
              "      <td>153</td>\n",
              "      <td>618</td>\n",
              "      <td>14.827586</td>\n",
              "    </tr>\n",
              "    <tr>\n",
              "      <th>0</th>\n",
              "      <td>1</td>\n",
              "      <td>Kuramon</td>\n",
              "      <td>Baby</td>\n",
              "      <td>Free</td>\n",
              "      <td>Neutral</td>\n",
              "      <td>2</td>\n",
              "      <td>0</td>\n",
              "      <td>590.0</td>\n",
              "      <td>77</td>\n",
              "      <td>79</td>\n",
              "      <td>69</td>\n",
              "      <td>68</td>\n",
              "      <td>95</td>\n",
              "      <td>388</td>\n",
              "      <td>10.785714</td>\n",
              "    </tr>\n",
              "    <tr>\n",
              "      <th>37</th>\n",
              "      <td>38</td>\n",
              "      <td>Dorumon</td>\n",
              "      <td>Rookie</td>\n",
              "      <td>Data</td>\n",
              "      <td>Neutral</td>\n",
              "      <td>5</td>\n",
              "      <td>1</td>\n",
              "      <td>1020.0</td>\n",
              "      <td>65</td>\n",
              "      <td>128</td>\n",
              "      <td>79</td>\n",
              "      <td>56</td>\n",
              "      <td>101</td>\n",
              "      <td>429</td>\n",
              "      <td>10.785714</td>\n",
              "    </tr>\n",
              "    <tr>\n",
              "      <th>32</th>\n",
              "      <td>33</td>\n",
              "      <td>Syakomon</td>\n",
              "      <td>Rookie</td>\n",
              "      <td>Virus</td>\n",
              "      <td>Water</td>\n",
              "      <td>4</td>\n",
              "      <td>1</td>\n",
              "      <td>870.0</td>\n",
              "      <td>100</td>\n",
              "      <td>53</td>\n",
              "      <td>86</td>\n",
              "      <td>112</td>\n",
              "      <td>78</td>\n",
              "      <td>429</td>\n",
              "      <td>10.833333</td>\n",
              "    </tr>\n",
              "  </tbody>\n",
              "</table>\n",
              "</div>"
            ],
            "text/plain": [
              "     Number        Digimon     Stage  ... Lv50 Spd total_status  AvgMemory\n",
              "100     101   BlackGatomon  Champion  ...      118          552  14.540541\n",
              "220     221  Machinedramon      Mega  ...      124          722  12.160000\n",
              "43       44        Biyomon    Rookie  ...       91          433  12.125000\n",
              "216     217       Mastemon      Mega  ...      149          773  10.785714\n",
              "208     209  PrinceMamemon      Mega  ...      130          653  10.785714\n",
              "193     194        Titamon      Mega  ...      129          653  10.541667\n",
              "140     141        Piximon  Ultimate  ...      153          618  14.827586\n",
              "0         1        Kuramon      Baby  ...       95          388  10.785714\n",
              "37       38        Dorumon    Rookie  ...      101          429  10.785714\n",
              "32       33       Syakomon    Rookie  ...       78          429  10.833333\n",
              "\n",
              "[10 rows x 15 columns]"
            ]
          },
          "metadata": {
            "tags": []
          },
          "execution_count": 26
        }
      ]
    }
  ]
}